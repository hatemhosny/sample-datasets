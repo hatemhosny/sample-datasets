{
 "cells": [
  {
   "cell_type": "code",
   "execution_count": 2,
   "metadata": {},
   "outputs": [],
   "source": [
    "import pandas as pd"
   ]
  },
  {
   "cell_type": "code",
   "execution_count": 3,
   "metadata": {},
   "outputs": [],
   "source": [
    "def long_to_wide(df):\n",
    "    return df.pivot(index='date', columns='name', values='value').reset_index()"
   ]
  },
  {
   "cell_type": "code",
   "execution_count": 3,
   "metadata": {},
   "outputs": [],
   "source": [
    "df = pd.read_csv('_processed/population.csv')\n",
    "long_to_wide(df).to_csv('_processed/population-wide.csv', index=False)\n",
    "long_to_wide(df).to_json('_processed/population-wide.json', orient='records')"
   ]
  },
  {
   "cell_type": "code",
   "execution_count": 7,
   "metadata": {},
   "outputs": [],
   "source": [
    "df = pd.read_csv('_processed/covid-19.csv')\n",
    "long_to_wide(df).to_csv('_processed/covid-19-wide.csv', index=False)\n",
    "long_to_wide(df).to_json('_processed/covid-19-wide.json', orient='records')"
   ]
  },
  {
   "cell_type": "code",
   "execution_count": 8,
   "metadata": {},
   "outputs": [],
   "source": [
    "df = pd.read_csv('_processed/gdp.csv')\n",
    "long_to_wide(df).to_csv('_processed/gdp-wide.csv', index=False)\n",
    "long_to_wide(df).to_json('_processed/gdp-wide.json', orient='records')"
   ]
  },
  {
   "cell_type": "code",
   "execution_count": 10,
   "metadata": {},
   "outputs": [],
   "source": [
    "df = pd.read_csv('brand-values/brand_values.csv', parse_dates=['date'], dayfirst=True)\n",
    "df.to_csv('_processed/brand-values.csv', index=False)\n",
    "df.to_json('_processed/brand-values.json', orient='records')\n",
    "long_to_wide(df).to_csv('_processed/brand-values-wide.csv', index=False)\n",
    "long_to_wide(df).to_json('_processed/brand-values-wide.json', orient='records')"
   ]
  },
  {
   "cell_type": "code",
   "execution_count": 6,
   "metadata": {},
   "outputs": [
    {
     "data": {
      "text/html": [
       "<div>\n",
       "<style scoped>\n",
       "    .dataframe tbody tr th:only-of-type {\n",
       "        vertical-align: middle;\n",
       "    }\n",
       "\n",
       "    .dataframe tbody tr th {\n",
       "        vertical-align: top;\n",
       "    }\n",
       "\n",
       "    .dataframe thead th {\n",
       "        text-align: right;\n",
       "    }\n",
       "</style>\n",
       "<table border=\"1\" class=\"dataframe\">\n",
       "  <thead>\n",
       "    <tr style=\"text-align: right;\">\n",
       "      <th></th>\n",
       "      <th>date</th>\n",
       "      <th>name</th>\n",
       "      <th>value</th>\n",
       "    </tr>\n",
       "  </thead>\n",
       "  <tbody>\n",
       "    <tr>\n",
       "      <th>0</th>\n",
       "      <td>2012-06-30</td>\n",
       "      <td>JavaScript</td>\n",
       "      <td>105379</td>\n",
       "    </tr>\n",
       "    <tr>\n",
       "      <th>1</th>\n",
       "      <td>2012-06-30</td>\n",
       "      <td>Python</td>\n",
       "      <td>99936</td>\n",
       "    </tr>\n",
       "    <tr>\n",
       "      <th>2</th>\n",
       "      <td>2012-06-30</td>\n",
       "      <td>Ruby</td>\n",
       "      <td>92073</td>\n",
       "    </tr>\n",
       "    <tr>\n",
       "      <th>3</th>\n",
       "      <td>2012-06-30</td>\n",
       "      <td>Java</td>\n",
       "      <td>70815</td>\n",
       "    </tr>\n",
       "    <tr>\n",
       "      <th>4</th>\n",
       "      <td>2012-06-30</td>\n",
       "      <td>PHP</td>\n",
       "      <td>69346</td>\n",
       "    </tr>\n",
       "    <tr>\n",
       "      <th>...</th>\n",
       "      <td>...</td>\n",
       "      <td>...</td>\n",
       "      <td>...</td>\n",
       "    </tr>\n",
       "    <tr>\n",
       "      <th>4527</th>\n",
       "      <td>2020-03-30</td>\n",
       "      <td>GDScript</td>\n",
       "      <td>116</td>\n",
       "    </tr>\n",
       "    <tr>\n",
       "      <th>4528</th>\n",
       "      <td>2020-03-30</td>\n",
       "      <td>Racket</td>\n",
       "      <td>112</td>\n",
       "    </tr>\n",
       "    <tr>\n",
       "      <th>4529</th>\n",
       "      <td>2020-03-30</td>\n",
       "      <td>ASP</td>\n",
       "      <td>110</td>\n",
       "    </tr>\n",
       "    <tr>\n",
       "      <th>4530</th>\n",
       "      <td>2020-03-30</td>\n",
       "      <td>Vim Snippet</td>\n",
       "      <td>101</td>\n",
       "    </tr>\n",
       "    <tr>\n",
       "      <th>4531</th>\n",
       "      <td>2020-03-30</td>\n",
       "      <td>Open Policy Agent</td>\n",
       "      <td>101</td>\n",
       "    </tr>\n",
       "  </tbody>\n",
       "</table>\n",
       "<p>4532 rows × 3 columns</p>\n",
       "</div>"
      ],
      "text/plain": [
       "           date               name   value\n",
       "0    2012-06-30         JavaScript  105379\n",
       "1    2012-06-30             Python   99936\n",
       "2    2012-06-30               Ruby   92073\n",
       "3    2012-06-30               Java   70815\n",
       "4    2012-06-30                PHP   69346\n",
       "...         ...                ...     ...\n",
       "4527 2020-03-30           GDScript     116\n",
       "4528 2020-03-30             Racket     112\n",
       "4529 2020-03-30                ASP     110\n",
       "4530 2020-03-30        Vim Snippet     101\n",
       "4531 2020-03-30  Open Policy Agent     101\n",
       "\n",
       "[4532 rows x 3 columns]"
      ]
     },
     "execution_count": 6,
     "metadata": {},
     "output_type": "execute_result"
    }
   ],
   "source": [
    "df = pd.read_csv('gh-push/gh-push-events.csv', parse_dates=['date'])\n",
    "df = df[['date', 'name', 'value']]\n",
    "df.to_csv('_processed/gh-push.csv', index=False)\n",
    "df.to_json('_processed/gh-push.json', orient='records')\n",
    "long_to_wide(df).to_csv('_processed/gh-push-wide.csv', index=False)\n",
    "long_to_wide(df).to_json('_processed/gh-push-wide.json', orient='records')\n",
    "df"
   ]
  }
 ],
 "metadata": {
  "kernelspec": {
   "display_name": "Python 3",
   "language": "python",
   "name": "python3"
  },
  "language_info": {
   "codemirror_mode": {
    "name": "ipython",
    "version": 3
   },
   "file_extension": ".py",
   "mimetype": "text/x-python",
   "name": "python",
   "nbconvert_exporter": "python",
   "pygments_lexer": "ipython3",
   "version": "3.7.3"
  }
 },
 "nbformat": 4,
 "nbformat_minor": 4
}
